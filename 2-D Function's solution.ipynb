{
 "cells": [
  {
   "cell_type": "markdown",
   "id": "2293297d",
   "metadata": {},
   "source": [
    "# Assignment 4_PHYB57"
   ]
  },
  {
   "cell_type": "code",
   "execution_count": 24,
   "id": "b53e32c6",
   "metadata": {},
   "outputs": [],
   "source": [
    "import numpy as np "
   ]
  },
  {
   "cell_type": "markdown",
   "id": "5934286c",
   "metadata": {},
   "source": [
    "### Define derivatives (central differences) for 2-D situation\n"
   ]
  },
  {
   "cell_type": "code",
   "execution_count": 25,
   "id": "ec10446c",
   "metadata": {},
   "outputs": [],
   "source": [
    "def cdf_2d(f,x,y,h=1e-5): \n",
    "    \n",
    "    df_dx = (f(x+h, y) - f(x-h, y)) / (2*h) \n",
    "    ## Derivative for f with respect to x\n",
    "    \n",
    "    df_dy = (f(x, y+h) - f(x, y-h)) / (2*h) \n",
    "    ## Derivative for f with respect to y\n",
    "    \n",
    "    return df_dx, df_dy\n"
   ]
  },
  {
   "cell_type": "markdown",
   "id": "103f31ae",
   "metadata": {},
   "source": [
    "### Define two functions "
   ]
  },
  {
   "cell_type": "code",
   "execution_count": 26,
   "id": "14b438fb",
   "metadata": {},
   "outputs": [],
   "source": [
    "def u(x, y):\n",
    "    \n",
    "    return x**2 + x*y - 10\n",
    "\n",
    "def v(x, y):\n",
    "    \n",
    "    return y + 3*x*y**2 - 57\n",
    "\n",
    "def u_1(x, y):\n",
    "    \n",
    "    return x**2 + x*y - 30 \n",
    "    ## The third function is used to test the \n",
    "    ##\"Value Error\" fuction, clearly\n",
    "    ## u and u_1 have no intersection."
   ]
  },
  {
   "cell_type": "markdown",
   "id": "926d27f5",
   "metadata": {},
   "source": [
    "### Define newton_2d function ( partial derivative and Jacobian matrix are inside the function )"
   ]
  },
  {
   "cell_type": "code",
   "execution_count": 27,
   "id": "0bed5bb8",
   "metadata": {},
   "outputs": [],
   "source": [
    "def newton_2d(f, g, x_0, y_0):\n",
    "    \n",
    "    max_iter = 1000  \n",
    "    ## Max times of interation accectable \n",
    "    \n",
    "    tol = 1e-10      \n",
    "    ## When difference is less than 1e-10, we say it converges\n",
    "    \n",
    "    h = 1e-5       \n",
    "    x, y = x_0, y_0  \n",
    "    ## Give value to x and y.\n",
    "    \n",
    "    for i in range(max_iter):\n",
    "        df_dx, df_dy = cdf_2d(f, x, y) \n",
    "        dg_dx, dg_dy = cdf_2d(g, x, y) \n",
    "        \n",
    "        J = abs(df_dx * dg_dy - df_dy * dg_dx)\n",
    "        \n",
    "        x_new = x - (f(x, y)*dg_dy - g(x, y)*df_dy) / J\n",
    "        y_new = y - (g(x, y)*df_dx - f(x, y)*dg_dx) / J\n",
    "\n",
    "        if abs(x_new - x) < tol and abs(y_new - y) < tol:\n",
    "            return (x_new, y_new), i + 1\n",
    "        \n",
    "        x, y = x_new, y_new\n",
    "        \n",
    "    raise ValueError(\"No convergence after maximum number of iterations.\")\n",
    "    ## If out of 1000 interration, \n",
    "    ## we say \"No convergence after maximum number of iterations\"\n"
   ]
  },
  {
   "cell_type": "markdown",
   "id": "5ca04b55",
   "metadata": {},
   "source": [
    "### Test Functions"
   ]
  },
  {
   "cell_type": "code",
   "execution_count": 30,
   "id": "dba71684",
   "metadata": {},
   "outputs": [
    {
     "name": "stdout",
     "output_type": "stream",
     "text": [
      "Root: (2.0, 2.9999999999999996)\n",
      "Iterations: 7\n"
     ]
    }
   ],
   "source": [
    "initial_guess = (u,v,1, 1)\n",
    "(root, iterations) = newton_2d(*initial_guess)\n",
    "print(\"Root:\", root)\n",
    "print(\"Iterations:\", iterations)  \n",
    "\n",
    "## This is a test for u and v. \n",
    "## The result is (2.0,2.9999999999999996)\n",
    "## Result obtained within 7 interations.\n",
    "\n"
   ]
  },
  {
   "cell_type": "markdown",
   "id": "0fe520c0",
   "metadata": {},
   "source": [
    "### 2D grid search system"
   ]
  },
  {
   "cell_type": "code",
   "execution_count": 35,
   "id": "6866f0fe",
   "metadata": {},
   "outputs": [],
   "source": [
    "def grid_search_newton():\n",
    "    \n",
    "    x_range = np.linspace(-10, 10, num=101)\n",
    "    y_range = np.linspace(-10, 10, num=101)\n",
    "    x_grid, y_grid = np.meshgrid(x_range, y_range)\n",
    "    \n",
    "    for xi, yi in zip(x_grid.ravel(), y_grid.ravel()):\n",
    "    ## Iterate (loop) over each point in the grid. Here, ravel is used to flatten the 2D arrays into 1D arrays so we can loop through each combination of (xi, yi) in the grid.\n",
    "        x_root, y_root, num_iterations = newton_2d(u, v, xi, yi)\n",
    "        \n",
    "        if num_iterations < max_iter:  # This checks if it converged\n",
    "            return x_root, y_root, num_iterations\n",
    "\n",
    "    return None, None, max_iter\n"
   ]
  },
  {
   "cell_type": "markdown",
   "id": "9c2f7f0e",
   "metadata": {},
   "source": [
    "### Test function"
   ]
  },
  {
   "cell_type": "code",
   "execution_count": 36,
   "id": "0005a9eb",
   "metadata": {},
   "outputs": [
    {
     "name": "stderr",
     "output_type": "stream",
     "text": [
      "/var/folders/41/wn3txxyj4ps11qd7fbxkxk1c0000gn/T/ipykernel_38525/2752359170.py:19: RuntimeWarning: divide by zero encountered in scalar divide\n",
      "  x_new = x - (f(x, y)*dg_dy - g(x, y)*df_dy) / J\n",
      "/var/folders/41/wn3txxyj4ps11qd7fbxkxk1c0000gn/T/ipykernel_38525/2752359170.py:20: RuntimeWarning: invalid value encountered in scalar divide\n",
      "  y_new = y - (g(x, y)*df_dx - f(x, y)*dg_dx) / J\n"
     ]
    },
    {
     "ename": "ValueError",
     "evalue": "No convergence after maximum number of iterations.",
     "output_type": "error",
     "traceback": [
      "\u001b[0;31m---------------------------------------------------------------------------\u001b[0m",
      "\u001b[0;31mValueError\u001b[0m                                Traceback (most recent call last)",
      "Cell \u001b[0;32mIn[36], line 1\u001b[0m\n\u001b[0;32m----> 1\u001b[0m x, y, num_iterations \u001b[38;5;241m=\u001b[39m grid_search_newton()\n\u001b[1;32m      3\u001b[0m \u001b[38;5;28;01mif\u001b[39;00m num_iterations \u001b[38;5;241m<\u001b[39m \u001b[38;5;241m100\u001b[39m:\n\u001b[1;32m      4\u001b[0m     \u001b[38;5;28mprint\u001b[39m(\u001b[38;5;124mf\u001b[39m\u001b[38;5;124m\"\u001b[39m\u001b[38;5;124mRoots: x = \u001b[39m\u001b[38;5;132;01m{\u001b[39;00mx\u001b[38;5;132;01m}\u001b[39;00m\u001b[38;5;124m, y = \u001b[39m\u001b[38;5;132;01m{\u001b[39;00my\u001b[38;5;132;01m}\u001b[39;00m\u001b[38;5;124m, Converged in \u001b[39m\u001b[38;5;132;01m{\u001b[39;00mnum_iterations\u001b[38;5;132;01m}\u001b[39;00m\u001b[38;5;124m iterations\u001b[39m\u001b[38;5;124m\"\u001b[39m)\n",
      "Cell \u001b[0;32mIn[35], line 9\u001b[0m, in \u001b[0;36mgrid_search_newton\u001b[0;34m()\u001b[0m\n\u001b[1;32m      5\u001b[0m x_grid, y_grid \u001b[38;5;241m=\u001b[39m np\u001b[38;5;241m.\u001b[39mmeshgrid(x_range, y_range)\n\u001b[1;32m      7\u001b[0m \u001b[38;5;28;01mfor\u001b[39;00m xi, yi \u001b[38;5;129;01min\u001b[39;00m \u001b[38;5;28mzip\u001b[39m(x_grid\u001b[38;5;241m.\u001b[39mravel(), y_grid\u001b[38;5;241m.\u001b[39mravel()):\n\u001b[0;32m----> 9\u001b[0m     x_root, y_root, num_iterations \u001b[38;5;241m=\u001b[39m newton_2d(u, v, xi, yi)\n\u001b[1;32m     11\u001b[0m     \u001b[38;5;28;01mif\u001b[39;00m num_iterations \u001b[38;5;241m<\u001b[39m max_iter:  \u001b[38;5;66;03m# This checks if it converged\u001b[39;00m\n\u001b[1;32m     12\u001b[0m         \u001b[38;5;28;01mreturn\u001b[39;00m x_root, y_root, num_iterations\n",
      "Cell \u001b[0;32mIn[27], line 27\u001b[0m, in \u001b[0;36mnewton_2d\u001b[0;34m(f, g, x_0, y_0)\u001b[0m\n\u001b[1;32m     23\u001b[0m         \u001b[38;5;28;01mreturn\u001b[39;00m (x_new, y_new), i \u001b[38;5;241m+\u001b[39m \u001b[38;5;241m1\u001b[39m\n\u001b[1;32m     25\u001b[0m     x, y \u001b[38;5;241m=\u001b[39m x_new, y_new\n\u001b[0;32m---> 27\u001b[0m \u001b[38;5;28;01mraise\u001b[39;00m \u001b[38;5;167;01mValueError\u001b[39;00m(\u001b[38;5;124m\"\u001b[39m\u001b[38;5;124mNo convergence after maximum number of iterations.\u001b[39m\u001b[38;5;124m\"\u001b[39m)\n",
      "\u001b[0;31mValueError\u001b[0m: No convergence after maximum number of iterations."
     ]
    }
   ],
   "source": [
    "x, y, num_iterations = grid_search_newton()\n",
    "\n",
    "if num_iterations < 100:\n",
    "    print(f\"Roots: x = {x}, y = {y}, Converged in {num_iterations} iterations\")\n",
    "else:\n",
    "    print(\"No roots found over the grid search.\")"
   ]
  },
  {
   "cell_type": "code",
   "execution_count": null,
   "id": "efe57a8a",
   "metadata": {},
   "outputs": [],
   "source": []
  }
 ],
 "metadata": {
  "kernelspec": {
   "display_name": "Python 3 (ipykernel)",
   "language": "python",
   "name": "python3"
  },
  "language_info": {
   "codemirror_mode": {
    "name": "ipython",
    "version": 3
   },
   "file_extension": ".py",
   "mimetype": "text/x-python",
   "name": "python",
   "nbconvert_exporter": "python",
   "pygments_lexer": "ipython3",
   "version": "3.11.4"
  }
 },
 "nbformat": 4,
 "nbformat_minor": 5
}
