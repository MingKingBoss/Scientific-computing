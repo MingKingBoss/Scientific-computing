{
 "cells": [
  {
   "cell_type": "markdown",
   "id": "719c95d8",
   "metadata": {},
   "source": [
    "# Prime number identifier "
   ]
  },
  {
   "cell_type": "markdown",
   "id": "a7f8899e",
   "metadata": {},
   "source": [
    "###  is_prime function"
   ]
  },
  {
   "cell_type": "code",
   "execution_count": 24,
   "id": "55beddf2",
   "metadata": {
    "scrolled": true
   },
   "outputs": [],
   "source": [
    "def is_prime(x):\n",
    "    \"\"\"Check if the given number x is prime.\"\"\"\n",
    "    \n",
    "    # Ensure x is an integer.\n",
    "    if not isinstance(x, int):\n",
    "        return \"You need to input an integer\"\n",
    "    \n",
    "    # Non-positive numbers and 1 are not prime.\n",
    "    if x <= 1:\n",
    "        return False\n",
    "    \n",
    "    # 2 is a prime.\n",
    "    if x == 2:\n",
    "        return True\n",
    "    \n",
    "    # Even numbers greater than 2 are not prime.\n",
    "    if x % 2 == 0:\n",
    "        return False\n",
    "    \n",
    "    # Check for factors up to the square root of x.\n",
    "    i = 3\n",
    "    while i * i <= x:\n",
    "        if x % i == 0:\n",
    "            return False\n",
    "        i += 2  # Only check odd numbers.\n",
    "    \n",
    "    return True\n"
   ]
  },
  {
   "cell_type": "markdown",
   "id": "437009cd",
   "metadata": {},
   "source": [
    "### Question 2, count_primes function"
   ]
  },
  {
   "cell_type": "code",
   "execution_count": 26,
   "id": "b87de25c",
   "metadata": {},
   "outputs": [],
   "source": [
    "def count_primes(y):\n",
    "    \"\"\"Count the number of primes between 1 and y.\"\"\"\n",
    "    \n",
    "    return sum(1 for e in range(1, y + 1) if is_prime(e))\n",
    "\n",
    "\n",
    "# 示例：\n",
    "print(is_prime(7))  # True\n",
    "print(count_primes(10))  # 4\n",
    "        "
   ]
  }
 ],
 "metadata": {
  "kernelspec": {
   "display_name": "Python 3 (ipykernel)",
   "language": "python",
   "name": "python3"
  },
  "language_info": {
   "codemirror_mode": {
    "name": "ipython",
    "version": 3
   },
   "file_extension": ".py",
   "mimetype": "text/x-python",
   "name": "python",
   "nbconvert_exporter": "python",
   "pygments_lexer": "ipython3",
   "version": "3.11.4"
  }
 },
 "nbformat": 4,
 "nbformat_minor": 5
}
